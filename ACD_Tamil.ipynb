{
 "cells": [
  {
   "cell_type": "code",
   "execution_count": 1,
   "metadata": {},
   "outputs": [],
   "source": [
    "import pandas as pd\n",
    "import numpy as np\n",
    "import re\n",
    "import timeit\n",
    "import warnings\n",
    "import string\n",
    "import seaborn as sn\n",
    "import matplotlib.pyplot as plt\n",
    "from PIL import Image\n",
    "from wordcloud import WordCloud\n",
    "from nltk.corpus import stopwords\n",
    "from nltk.stem import PorterStemmer\n",
    "from nltk.tokenize import TweetTokenizer\n",
    "from nltk.probability import FreqDist\n",
    "import emoji\n",
    "from sklearn.feature_extraction.text import CountVectorizer,TfidfVectorizer\n",
    "from sklearn.preprocessing import LabelEncoder\n",
    "from sklearn.svm import SVC\n",
    "from sklearn.neighbors import KNeighborsClassifier\n",
    "from sklearn.tree import DecisionTreeClassifier,plot_tree\n",
    "from sklearn.ensemble import RandomForestClassifier\n",
    "from sklearn.model_selection import cross_validate, GridSearchCV\n",
    "from sklearn.metrics import make_scorer\n",
    "from sklearn.metrics import confusion_matrix\n",
    "from sklearn.metrics import accuracy_score, precision_score, recall_score, f1_score, confusion_matrix\n",
    "from sklearn.naive_bayes import GaussianNB\n",
    "from sklearn.model_selection import train_test_split\n",
    "from sklearn.metrics import classification_report\n",
    "from tkinter import ttk\n",
    "from tkinter import *\n",
    "import time"
   ]
  },
  {
   "cell_type": "code",
   "execution_count": 73,
   "metadata": {},
   "outputs": [],
   "source": [
    "def preprocessing(text):\n",
    "    print(text)\n",
    "    #text = re.sub(\"[^a-zA-Z]\", \" \",text)\n",
    "    #text = re.sub(\"[0-9]\", \" \",text)\n",
    "    text = re.sub(r'@\\S+', '', text)\n",
    "    text = re.sub(r'http\\S+', '', text)\n",
    "    text = re.sub(r'www\\S+', '', text)\n",
    "    text = re.sub(r'#\\S+', '', text)\n",
    "    text = text.lower()\n",
    "    text = (re.sub(' +',' ',text)).strip()\n",
    "    text = emoji.get_emoji_regexp().sub(\"\", text)\n",
    "    return text"
   ]
  },
  {
   "cell_type": "code",
   "execution_count": 3,
   "metadata": {},
   "outputs": [],
   "source": [
    "def evaluation_metrics(y_test,y_pred):\n",
    "    accuracy = accuracy_score(y_test,y_pred) # Accuracy of prediction\n",
    "    conf_mat = confusion_matrix(y_test, y_pred) # Confusion matrix\n",
    "    precision = precision_score(y_test, y_pred, average='macro') # Precision\n",
    "    recall = recall_score(y_test, y_pred, average='macro') # Recall\n",
    "    f1 = f1_score(y_test, y_pred, average='macro') # F1-score\n",
    "    evaluation = [accuracy, conf_mat, precision, recall, f1]\n",
    "    return evaluation"
   ]
  },
  {
   "cell_type": "code",
   "execution_count": 4,
   "metadata": {},
   "outputs": [],
   "source": [
    "def rks(data,dim=4,random_state=27):\n",
    "    m,n = np.shape(data)\n",
    "    np.random.seed(random_state)\n",
    "    rand_mat = np.random.normal(size=(n,n*dim));\n",
    "    print(np.shape(data),np.shape(rand_mat))\n",
    "    trans_data = np.matmul(data,rand_mat);\n",
    "    cos_data = np.cos(trans_data)\n",
    "    sin_data = np.sin(trans_data)\n",
    "    concat_data = np.concatenate((cos_data,sin_data),axis=1)\n",
    "    return concat_data"
   ]
  },
  {
   "cell_type": "code",
   "execution_count": 5,
   "metadata": {},
   "outputs": [],
   "source": [
    "#df_train_orig = pd.read_csv(\"./data/ta-en-misogyny-train.csv\",sep=\"\\t\",names=[\"class\",\"comments\"])\n",
    "#df_dev_orig = pd.read_csv(\"./data/ta-en-misogyny-dev.csv\",sep=\"\\t\",names=[\"class\",\"comments\"])\n",
    "df_train_orig = pd.read_csv(\"./data/ta-misogyny-train.csv\",sep=\"\\t\",names=[\"class\",\"comments\"])\n",
    "df_dev_orig = pd.read_csv(\"./data/ta-misogyny-dev.csv\",sep=\"\\t\",names=[\"class\",\"comments\"])"
   ]
  },
  {
   "cell_type": "code",
   "execution_count": 6,
   "metadata": {},
   "outputs": [
    {
     "data": {
      "text/html": [
       "<div>\n",
       "<style scoped>\n",
       "    .dataframe tbody tr th:only-of-type {\n",
       "        vertical-align: middle;\n",
       "    }\n",
       "\n",
       "    .dataframe tbody tr th {\n",
       "        vertical-align: top;\n",
       "    }\n",
       "\n",
       "    .dataframe thead th {\n",
       "        text-align: right;\n",
       "    }\n",
       "</style>\n",
       "<table border=\"1\" class=\"dataframe\">\n",
       "  <thead>\n",
       "    <tr style=\"text-align: right;\">\n",
       "      <th></th>\n",
       "      <th>class</th>\n",
       "      <th>comments</th>\n",
       "    </tr>\n",
       "  </thead>\n",
       "  <tbody>\n",
       "    <tr>\n",
       "      <th>0</th>\n",
       "      <td>Hope-Speech</td>\n",
       "      <td>உங்கள் பேச்சை எதிர்பார்த்தேன். நல்ல விளக்கம்  ...</td>\n",
       "    </tr>\n",
       "    <tr>\n",
       "      <th>1</th>\n",
       "      <td>None-of-the-above</td>\n",
       "      <td>எச். ராசாவால் இராமருக்கே  இழிவு. இவர் எல்லாம் ...</td>\n",
       "    </tr>\n",
       "    <tr>\n",
       "      <th>2</th>\n",
       "      <td>None-of-the-above</td>\n",
       "      <td>கல்யாணம்னு  வரும்போது தான் சாதி முக்கியம் எங்க...</td>\n",
       "    </tr>\n",
       "    <tr>\n",
       "      <th>3</th>\n",
       "      <td>None-of-the-above</td>\n",
       "      <td>Tentu Kottai ஐயா நான் தமிழ் இந்து.</td>\n",
       "    </tr>\n",
       "    <tr>\n",
       "      <th>4</th>\n",
       "      <td>Homophobia</td>\n",
       "      <td>Tamil selvan  அடே தேவடியாவுக்கு பிரந்தவனே பச்ச...</td>\n",
       "    </tr>\n",
       "  </tbody>\n",
       "</table>\n",
       "</div>"
      ],
      "text/plain": [
       "               class                                           comments\n",
       "0        Hope-Speech  உங்கள் பேச்சை எதிர்பார்த்தேன். நல்ல விளக்கம்  ...\n",
       "1  None-of-the-above  எச். ராசாவால் இராமருக்கே  இழிவு. இவர் எல்லாம் ...\n",
       "2  None-of-the-above  கல்யாணம்னு  வரும்போது தான் சாதி முக்கியம் எங்க...\n",
       "3  None-of-the-above                 Tentu Kottai ஐயா நான் தமிழ் இந்து.\n",
       "4         Homophobia  Tamil selvan  அடே தேவடியாவுக்கு பிரந்தவனே பச்ச..."
      ]
     },
     "execution_count": 6,
     "metadata": {},
     "output_type": "execute_result"
    }
   ],
   "source": [
    "df_train_orig.head()"
   ]
  },
  {
   "cell_type": "code",
   "execution_count": 7,
   "metadata": {},
   "outputs": [
    {
     "data": {
      "text/html": [
       "<div>\n",
       "<style scoped>\n",
       "    .dataframe tbody tr th:only-of-type {\n",
       "        vertical-align: middle;\n",
       "    }\n",
       "\n",
       "    .dataframe tbody tr th {\n",
       "        vertical-align: top;\n",
       "    }\n",
       "\n",
       "    .dataframe thead th {\n",
       "        text-align: right;\n",
       "    }\n",
       "</style>\n",
       "<table border=\"1\" class=\"dataframe\">\n",
       "  <thead>\n",
       "    <tr style=\"text-align: right;\">\n",
       "      <th></th>\n",
       "      <th>class</th>\n",
       "      <th>comments</th>\n",
       "    </tr>\n",
       "  </thead>\n",
       "  <tbody>\n",
       "  </tbody>\n",
       "</table>\n",
       "</div>"
      ],
      "text/plain": [
       "Empty DataFrame\n",
       "Columns: [class, comments]\n",
       "Index: []"
      ]
     },
     "execution_count": 7,
     "metadata": {},
     "output_type": "execute_result"
    }
   ],
   "source": [
    "df_train_orig[df_train_orig[\"comments\"].isna()]"
   ]
  },
  {
   "cell_type": "code",
   "execution_count": 8,
   "metadata": {},
   "outputs": [
    {
     "data": {
      "text/html": [
       "<div>\n",
       "<style scoped>\n",
       "    .dataframe tbody tr th:only-of-type {\n",
       "        vertical-align: middle;\n",
       "    }\n",
       "\n",
       "    .dataframe tbody tr th {\n",
       "        vertical-align: top;\n",
       "    }\n",
       "\n",
       "    .dataframe thead th {\n",
       "        text-align: right;\n",
       "    }\n",
       "</style>\n",
       "<table border=\"1\" class=\"dataframe\">\n",
       "  <thead>\n",
       "    <tr style=\"text-align: right;\">\n",
       "      <th></th>\n",
       "      <th>class</th>\n",
       "      <th>comments</th>\n",
       "    </tr>\n",
       "  </thead>\n",
       "  <tbody>\n",
       "    <tr>\n",
       "      <th>0</th>\n",
       "      <td>None-of-the-above</td>\n",
       "      <td>மனைவியை விரும்பினால் சுவாரசியம் வரும்</td>\n",
       "    </tr>\n",
       "    <tr>\n",
       "      <th>1</th>\n",
       "      <td>Misogyny</td>\n",
       "      <td>மதுவாந்தி ஒரு கருங்காலி பெண்ணினத்திற்கே ஒரு அவ...</td>\n",
       "    </tr>\n",
       "    <tr>\n",
       "      <th>2</th>\n",
       "      <td>None-of-the-above</td>\n",
       "      <td>எச்ச.ராஜா ஓரு .........உங்கள் கருத்து........</td>\n",
       "    </tr>\n",
       "    <tr>\n",
       "      <th>3</th>\n",
       "      <td>None-of-the-above</td>\n",
       "      <td>பிராமின்ஸ்லையும் மனசாட்சி உள்ள ஒரு மனுஷன் இருக...</td>\n",
       "    </tr>\n",
       "    <tr>\n",
       "      <th>4</th>\n",
       "      <td>Misandry</td>\n",
       "      <td>Comedy எச்சில் ராஜா</td>\n",
       "    </tr>\n",
       "  </tbody>\n",
       "</table>\n",
       "</div>"
      ],
      "text/plain": [
       "               class                                           comments\n",
       "0  None-of-the-above              மனைவியை விரும்பினால் சுவாரசியம் வரும்\n",
       "1           Misogyny  மதுவாந்தி ஒரு கருங்காலி பெண்ணினத்திற்கே ஒரு அவ...\n",
       "2  None-of-the-above      எச்ச.ராஜா ஓரு .........உங்கள் கருத்து........\n",
       "3  None-of-the-above  பிராமின்ஸ்லையும் மனசாட்சி உள்ள ஒரு மனுஷன் இருக...\n",
       "4           Misandry                                Comedy எச்சில் ராஜா"
      ]
     },
     "execution_count": 8,
     "metadata": {},
     "output_type": "execute_result"
    }
   ],
   "source": [
    "df_dev_orig.head()"
   ]
  },
  {
   "cell_type": "code",
   "execution_count": 9,
   "metadata": {},
   "outputs": [
    {
     "data": {
      "text/html": [
       "<div>\n",
       "<style scoped>\n",
       "    .dataframe tbody tr th:only-of-type {\n",
       "        vertical-align: middle;\n",
       "    }\n",
       "\n",
       "    .dataframe tbody tr th {\n",
       "        vertical-align: top;\n",
       "    }\n",
       "\n",
       "    .dataframe thead th {\n",
       "        text-align: right;\n",
       "    }\n",
       "</style>\n",
       "<table border=\"1\" class=\"dataframe\">\n",
       "  <thead>\n",
       "    <tr style=\"text-align: right;\">\n",
       "      <th></th>\n",
       "      <th>class</th>\n",
       "      <th>comments</th>\n",
       "    </tr>\n",
       "  </thead>\n",
       "  <tbody>\n",
       "  </tbody>\n",
       "</table>\n",
       "</div>"
      ],
      "text/plain": [
       "Empty DataFrame\n",
       "Columns: [class, comments]\n",
       "Index: []"
      ]
     },
     "execution_count": 9,
     "metadata": {},
     "output_type": "execute_result"
    }
   ],
   "source": [
    "df_dev_orig[df_dev_orig[\"comments\"].isna()]"
   ]
  },
  {
   "cell_type": "code",
   "execution_count": 10,
   "metadata": {},
   "outputs": [],
   "source": [
    "df_train = df_train_orig.fillna(\"unknown\")\n",
    "df_dev = df_dev_orig.fillna(\"unknown\")"
   ]
  },
  {
   "cell_type": "code",
   "execution_count": 11,
   "metadata": {},
   "outputs": [
    {
     "name": "stdout",
     "output_type": "stream",
     "text": [
      "class       0\n",
      "comments    0\n",
      "dtype: int64 \n",
      "\n",
      "class       0\n",
      "comments    0\n",
      "dtype: int64\n"
     ]
    }
   ],
   "source": [
    "print(df_train.isna().sum(),\"\\n\")\n",
    "print(df_dev.isna().sum())"
   ]
  },
  {
   "cell_type": "code",
   "execution_count": 12,
   "metadata": {},
   "outputs": [],
   "source": [
    "n_classes = len(np.unique(df_train[\"class\"]))"
   ]
  },
  {
   "cell_type": "code",
   "execution_count": 13,
   "metadata": {},
   "outputs": [],
   "source": [
    "le = LabelEncoder()"
   ]
  },
  {
   "cell_type": "code",
   "execution_count": 14,
   "metadata": {},
   "outputs": [],
   "source": [
    "X_train = [(preprocessing(i)) for i in df_train[\"comments\"]]\n",
    "X_val = [(preprocessing(i)) for i in df_dev[\"comments\"]]\n",
    "\n",
    "Y_train = le.fit_transform(np.array(df_train_orig[\"class\"]))\n",
    "Y_val = le.transform(np.array(df_dev_orig[\"class\"]))"
   ]
  },
  {
   "cell_type": "code",
   "execution_count": 15,
   "metadata": {},
   "outputs": [
    {
     "data": {
      "text/plain": [
       "(array([ 36.,   8.,  11., 104.,  24., 346.,   0.,   2.,  29.]),\n",
       " array([0.        , 0.88888889, 1.77777778, 2.66666667, 3.55555556,\n",
       "        4.44444444, 5.33333333, 6.22222222, 7.11111111, 8.        ]),\n",
       " <a list of 9 Patch objects>)"
      ]
     },
     "execution_count": 15,
     "metadata": {},
     "output_type": "execute_result"
    },
    {
     "data": {
      "image/png": "[encoded data removed]",
      "text/plain": [
       "<Figure size 432x288 with 1 Axes>"
      ]
     },
     "metadata": {
      "needs_background": "light"
     },
     "output_type": "display_data"
    }
   ],
   "source": [
    "plt.hist(Y_val,bins=n_classes)"
   ]
  },
  {
   "cell_type": "code",
   "execution_count": 16,
   "metadata": {},
   "outputs": [
    {
     "data": {
      "text/plain": [
       "array(['Counter-speech', 'Homophobia', 'Hope-Speech', 'Misandry',\n",
       "       'Misogyny', 'None-of-the-above', 'Not-Tamil', 'Transphobic',\n",
       "       'Xenophobia'], dtype=object)"
      ]
     },
     "execution_count": 16,
     "metadata": {},
     "output_type": "execute_result"
    }
   ],
   "source": [
    "le.classes_"
   ]
  },
  {
   "cell_type": "code",
   "execution_count": 17,
   "metadata": {},
   "outputs": [],
   "source": [
    "df = pd.DataFrame(X_train)"
   ]
  },
  {
   "cell_type": "code",
   "execution_count": 18,
   "metadata": {},
   "outputs": [
    {
     "data": {
      "text/html": [
       "<div>\n",
       "<style scoped>\n",
       "    .dataframe tbody tr th:only-of-type {\n",
       "        vertical-align: middle;\n",
       "    }\n",
       "\n",
       "    .dataframe tbody tr th {\n",
       "        vertical-align: top;\n",
       "    }\n",
       "\n",
       "    .dataframe thead th {\n",
       "        text-align: right;\n",
       "    }\n",
       "</style>\n",
       "<table border=\"1\" class=\"dataframe\">\n",
       "  <thead>\n",
       "    <tr style=\"text-align: right;\">\n",
       "      <th></th>\n",
       "      <th>0</th>\n",
       "      <th>class</th>\n",
       "    </tr>\n",
       "  </thead>\n",
       "  <tbody>\n",
       "    <tr>\n",
       "      <th>0</th>\n",
       "      <td>உங்கள் பேச்சை எதிர்பார்த்தேன். நல்ல விளக்கம் அ...</td>\n",
       "      <td>2</td>\n",
       "    </tr>\n",
       "    <tr>\n",
       "      <th>1</th>\n",
       "      <td>எச். ராசாவால் இராமருக்கே இழிவு. இவர் எல்லாம் இ...</td>\n",
       "      <td>5</td>\n",
       "    </tr>\n",
       "    <tr>\n",
       "      <th>2</th>\n",
       "      <td>கல்யாணம்னு வரும்போது தான் சாதி முக்கியம் எங்கள...</td>\n",
       "      <td>5</td>\n",
       "    </tr>\n",
       "    <tr>\n",
       "      <th>3</th>\n",
       "      <td>tentu kottai ஐயா நான் தமிழ் இந்து.</td>\n",
       "      <td>5</td>\n",
       "    </tr>\n",
       "    <tr>\n",
       "      <th>4</th>\n",
       "      <td>tamil selvan அடே தேவடியாவுக்கு பிரந்தவனே பச்சத...</td>\n",
       "      <td>1</td>\n",
       "    </tr>\n",
       "  </tbody>\n",
       "</table>\n",
       "</div>"
      ],
      "text/plain": [
       "                                                   0  class\n",
       "0  உங்கள் பேச்சை எதிர்பார்த்தேன். நல்ல விளக்கம் அ...      2\n",
       "1  எச். ராசாவால் இராமருக்கே இழிவு. இவர் எல்லாம் இ...      5\n",
       "2  கல்யாணம்னு வரும்போது தான் சாதி முக்கியம் எங்கள...      5\n",
       "3                 tentu kottai ஐயா நான் தமிழ் இந்து.      5\n",
       "4  tamil selvan அடே தேவடியாவுக்கு பிரந்தவனே பச்சத...      1"
      ]
     },
     "execution_count": 18,
     "metadata": {},
     "output_type": "execute_result"
    }
   ],
   "source": [
    "df[\"class\"] = le.transform(df_train[\"class\"])\n",
    "df.head()"
   ]
  },
  {
   "cell_type": "code",
   "execution_count": 19,
   "metadata": {},
   "outputs": [
    {
     "data": {
      "text/plain": [
       "TfidfVectorizer(analyzer='char_wb', max_features=2000, ngram_range=(1, 5))"
      ]
     },
     "execution_count": 19,
     "metadata": {},
     "output_type": "execute_result"
    }
   ],
   "source": [
    "tfidf_vec = TfidfVectorizer(ngram_range=(1,5),analyzer=\"char_wb\",max_features=2000)\n",
    "tfidf_vec.fit(X_train,Y_train)"
   ]
  },
  {
   "cell_type": "code",
   "execution_count": 20,
   "metadata": {},
   "outputs": [
    {
     "data": {
      "text/plain": [
       "TfidfVectorizer(analyzer='char', max_features=2000, ngram_range=(1, 5))"
      ]
     },
     "execution_count": 20,
     "metadata": {},
     "output_type": "execute_result"
    }
   ],
   "source": [
    "tfidf_vec_char = TfidfVectorizer(ngram_range=(1,5),analyzer=\"char\",max_features=2000)\n",
    "tfidf_vec_char.fit(X_train,Y_train)"
   ]
  },
  {
   "cell_type": "code",
   "execution_count": 21,
   "metadata": {},
   "outputs": [
    {
     "data": {
      "text/plain": [
       "TfidfVectorizer(max_features=2000, ngram_range=(1, 5))"
      ]
     },
     "execution_count": 21,
     "metadata": {},
     "output_type": "execute_result"
    }
   ],
   "source": [
    "tfidf_vec_word = TfidfVectorizer(ngram_range=(1,5),analyzer=\"word\",max_features=2000)\n",
    "tfidf_vec_word.fit(X_train,Y_train)"
   ]
  },
  {
   "cell_type": "code",
   "execution_count": 22,
   "metadata": {},
   "outputs": [],
   "source": [
    "X_train_charwb =(tfidf_vec.transform(X_train)).toarray() \n",
    "X_test_charwb = (tfidf_vec.transform(X_val)).toarray()"
   ]
  },
  {
   "cell_type": "code",
   "execution_count": 23,
   "metadata": {},
   "outputs": [],
   "source": [
    "X_train_char =(tfidf_vec_char.transform(X_train)).toarray() \n",
    "X_test_char = (tfidf_vec_char.transform(X_val)).toarray()"
   ]
  },
  {
   "cell_type": "code",
   "execution_count": 24,
   "metadata": {},
   "outputs": [],
   "source": [
    "X_train_word =(tfidf_vec_word.transform(X_train)).toarray() \n",
    "X_test_word = (tfidf_vec_word.transform(X_val)).toarray()"
   ]
  },
  {
   "cell_type": "code",
   "execution_count": 25,
   "metadata": {},
   "outputs": [],
   "source": [
    "X_train_new,X_test_new = np.concatenate((X_train_charwb,X_train_char,X_train_word),axis=1),np.concatenate((X_test_charwb,X_test_char,X_test_word),axis=1)"
   ]
  },
  {
   "cell_type": "code",
   "execution_count": 27,
   "metadata": {},
   "outputs": [
    {
     "name": "stdout",
     "output_type": "stream",
     "text": [
      "(2240, 2000) (2000, 20000)\n",
      "(560, 2000) (2000, 20000)\n"
     ]
    }
   ],
   "source": [
    "X_train_rks =rks(X_train_charwb,dim=10,random_state=50) \n",
    "X_test_rks = rks(X_test_charwb,dim=10,random_state=50)"
   ]
  },
  {
   "cell_type": "code",
   "execution_count": 28,
   "metadata": {},
   "outputs": [],
   "source": [
    "from imblearn.over_sampling import SMOTE\n",
    "smote = SMOTE(k_neighbors=1)\n",
    "X_sm1_rks, Y_sm1_rks = smote.fit_resample(X_train_rks,Y_train)"
   ]
  },
  {
   "cell_type": "code",
   "execution_count": 111,
   "metadata": {},
   "outputs": [
    {
     "name": "stdout",
     "output_type": "stream",
     "text": [
      "              precision    recall  f1-score   support\n",
      "\n",
      "           0       0.43      0.17      0.24        36\n",
      "           1       0.25      0.12      0.17         8\n",
      "           2       0.67      0.18      0.29        11\n",
      "           3       0.66      0.57      0.61       104\n",
      "           4       0.33      0.21      0.26        24\n",
      "           5       0.75      0.94      0.83       346\n",
      "           7       0.00      0.00      0.00         2\n",
      "           8       1.00      0.07      0.13        29\n",
      "\n",
      "    accuracy                           0.71       560\n",
      "   macro avg       0.51      0.28      0.31       560\n",
      "weighted avg       0.70      0.71      0.67       560\n",
      "\n"
     ]
    },
    {
     "name": "stderr",
     "output_type": "stream",
     "text": [
      "C:\\Users\\Prasanth S N\\anaconda3\\lib\\site-packages\\sklearn\\metrics\\_classification.py:1221: UndefinedMetricWarning: Precision and F-score are ill-defined and being set to 0.0 in labels with no predicted samples. Use `zero_division` parameter to control this behavior.\n",
      "  _warn_prf(average, modifier, msg_start, len(result))\n"
     ]
    }
   ],
   "source": [
    "#model 1\n",
    "svcm = SVC(kernel=\"poly\",C=100)\n",
    "svcm.fit(X_train_charwb,Y_train)\n",
    "p = svcm.predict(X_test_charwb)\n",
    "print(classification_report(Y_val,p))"
   ]
  },
  {
   "cell_type": "code",
   "execution_count": 124,
   "metadata": {},
   "outputs": [
    {
     "name": "stdout",
     "output_type": "stream",
     "text": [
      "Time Taken To Train:  81.9812331199646\n",
      "              precision    recall  f1-score   support\n",
      "\n",
      "           0       0.30      0.17      0.21        36\n",
      "           1       0.33      0.25      0.29         8\n",
      "           2       0.29      0.18      0.22        11\n",
      "           3       0.60      0.62      0.61       104\n",
      "           4       0.26      0.21      0.23        24\n",
      "           5       0.78      0.89      0.83       346\n",
      "           7       0.00      0.00      0.00         2\n",
      "           8       0.50      0.10      0.17        29\n",
      "\n",
      "    accuracy                           0.69       560\n",
      "   macro avg       0.38      0.30      0.32       560\n",
      "weighted avg       0.66      0.69      0.67       560\n",
      "\n"
     ]
    },
    {
     "name": "stderr",
     "output_type": "stream",
     "text": [
      "C:\\Users\\Prasanth S N\\anaconda3\\lib\\site-packages\\sklearn\\metrics\\_classification.py:1221: UndefinedMetricWarning: Precision and F-score are ill-defined and being set to 0.0 in labels with no predicted samples. Use `zero_division` parameter to control this behavior.\n",
      "  _warn_prf(average, modifier, msg_start, len(result))\n"
     ]
    }
   ],
   "source": [
    "#model 2\n",
    "smote1 = SMOTE(k_neighbors=1)\n",
    "X_sm11_rks, Y_sm11_rks = smote1.fit_resample(X_train_charwb,Y_train)\n",
    "st = time.time()\n",
    "svm_clf_charwb1 = SVC(kernel=\"poly\",C=100)\n",
    "svm_clf_charwb1.fit(X_sm11_rks,Y_sm11_rks)\n",
    "print(\"Time Taken To Train: \",time.time()-st) \n",
    "preds = svm_clf_charwb1.predict(X_test_charwb)\n",
    "print(classification_report(Y_val,preds))"
   ]
  },
  {
   "cell_type": "code",
   "execution_count": 136,
   "metadata": {},
   "outputs": [
    {
     "name": "stdout",
     "output_type": "stream",
     "text": [
      "              precision    recall  f1-score   support\n",
      "\n",
      "           0       0.38      0.14      0.20        36\n",
      "           1       0.20      0.12      0.15         8\n",
      "           2       0.67      0.18      0.29        11\n",
      "           3       0.65      0.62      0.63       104\n",
      "           4       0.35      0.25      0.29        24\n",
      "           5       0.76      0.93      0.84       346\n",
      "           7       0.00      0.00      0.00         2\n",
      "           8       1.00      0.07      0.13        29\n",
      "\n",
      "    accuracy                           0.72       560\n",
      "   macro avg       0.50      0.29      0.32       560\n",
      "weighted avg       0.70      0.72      0.67       560\n",
      "\n"
     ]
    },
    {
     "name": "stderr",
     "output_type": "stream",
     "text": [
      "C:\\Users\\Prasanth S N\\anaconda3\\lib\\site-packages\\sklearn\\metrics\\_classification.py:1221: UndefinedMetricWarning: Precision and F-score are ill-defined and being set to 0.0 in labels with no predicted samples. Use `zero_division` parameter to control this behavior.\n",
      "  _warn_prf(average, modifier, msg_start, len(result))\n"
     ]
    }
   ],
   "source": [
    "#model 3\n",
    "svcmr = SVC(kernel=\"poly\",C=100)\n",
    "svcmr.fit(X_train_rks,Y_train)\n",
    "p = svcmr.predict(X_test_rks)\n",
    "print(classification_report(Y_val,p))"
   ]
  },
  {
   "cell_type": "code",
   "execution_count": 29,
   "metadata": {},
   "outputs": [
    {
     "name": "stdout",
     "output_type": "stream",
     "text": [
      "Time Taken To Train:  1595.3399012088776\n",
      "              precision    recall  f1-score   support\n",
      "\n",
      "           0       0.40      0.22      0.29        36\n",
      "           1       0.33      0.25      0.29         8\n",
      "           2       0.40      0.18      0.25        11\n",
      "           3       0.60      0.62      0.61       104\n",
      "           4       0.32      0.25      0.28        24\n",
      "           5       0.78      0.90      0.83       346\n",
      "           7       0.00      0.00      0.00         2\n",
      "           8       0.60      0.10      0.18        29\n",
      "\n",
      "    accuracy                           0.71       560\n",
      "   macro avg       0.43      0.32      0.34       560\n",
      "weighted avg       0.68      0.71      0.68       560\n",
      "\n"
     ]
    },
    {
     "name": "stderr",
     "output_type": "stream",
     "text": [
      "C:\\Users\\Prasanth S N\\anaconda3\\lib\\site-packages\\sklearn\\metrics\\_classification.py:1221: UndefinedMetricWarning: Precision and F-score are ill-defined and being set to 0.0 in labels with no predicted samples. Use `zero_division` parameter to control this behavior.\n",
      "  _warn_prf(average, modifier, msg_start, len(result))\n"
     ]
    }
   ],
   "source": [
    "\"\"\"\n",
    "USED THIS\n",
    "\"\"\"\n",
    "#model 4\n",
    "st = time.time()\n",
    "svm_clf_charwb_smote = SVC(kernel=\"poly\",C=100)\n",
    "svm_clf_charwb_smote.fit(X_sm1_rks,Y_sm1_rks)\n",
    "print(\"Time Taken To Train: \",time.time()-st)\n",
    "preds = svm_clf_charwb_smote.predict(X_test_rks)\n",
    "print(classification_report(Y_val,preds))"
   ]
  },
  {
   "cell_type": "code",
   "execution_count": null,
   "metadata": {},
   "outputs": [],
   "source": [
    "df_Test = pd.read_csv(\"./data/ta-misogyny-test.csv\",sep=\"\\t\",names=[\"class\"])\n",
    "X_fi = tfidf_vec.transform([(preprocessing(i)) for i in df_Test[\"class\"]]).toarray()\n",
    "X_fi_rks = rks(X_fi,dim=10,random_state=50)\n",
    "preds_test =  svm_clf_charwb_smote.predict(X_fi_rks)\n",
    "test_labels = le.inverse_transform(preds_test)\n",
    "df_Test.to_csv(\"CEN-Tamil_tamil.tsv\",sep=\"\\t\",index=False)"
   ]
  }
 ],
 "metadata": {
  "kernelspec": {
   "display_name": "Python 3 (ipykernel)",
   "language": "python",
   "name": "python3"
  },
  "language_info": {
   "codemirror_mode": {
    "name": "ipython",
    "version": 3
   },
   "file_extension": ".py",
   "mimetype": "text/x-python",
   "name": "python",
   "nbconvert_exporter": "python",
   "pygments_lexer": "ipython3",
   "version": "3.8.3"
  }
 },
 "nbformat": 4,
 "nbformat_minor": 4
}
